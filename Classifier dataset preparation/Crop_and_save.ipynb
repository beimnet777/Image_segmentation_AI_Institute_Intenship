{
  "nbformat": 4,
  "nbformat_minor": 0,
  "metadata": {
    "colab": {
      "provenance": []
    },
    "kernelspec": {
      "name": "python3",
      "display_name": "Python 3"
    },
    "language_info": {
      "name": "python"
    }
  },
  "cells": [
    {
      "cell_type": "code",
      "source": [
        "import cv2\n",
        "import numpy as np\n",
        "import os"
      ],
      "metadata": {
        "id": "0fwyRt21V7n6"
      },
      "execution_count": 1,
      "outputs": []
    },
    {
      "cell_type": "code",
      "source": [
        "def crop_and_save(original_image_path, mask_image_path):\n",
        "    # Load the original and mask image\n",
        "    original_image = cv2.imread(original_image_path)\n",
        "    mask_image = cv2.imread(mask_image_path)\n",
        "\n",
        "    # Define a dictionary to map color labels in the mask image to their corresponding BGR color values\n",
        "    label_color_dict = {\n",
        "                        \"leafrust\":(0,0,255),\n",
        "                        \"leafminer\":(255,0,0),\n",
        "                        \"freefeeder\":(100,0,200),\n",
        "                        \"leafskeletonizer\":(0,190,255)\n",
        "                        }\n",
        "\n",
        "    # Convert the mask image to grayscale\n",
        "    gray_mask = cv2.cvtColor(mask_image, cv2.COLOR_BGR2GRAY)\n",
        "\n",
        "    # Apply a threshold to convert the grayscale mask image to a binary image\n",
        "    ret, binary_mask = cv2.threshold(gray_mask, 127, 255, cv2.THRESH_BINARY)\n",
        "\n",
        "    # Find contours of objects in the binary mask image\n",
        "    contours, hierarchy = cv2.findContours(binary_mask, cv2.RETR_EXTERNAL, cv2.CHAIN_APPROX_SIMPLE)\n",
        "\n",
        "    # Loop through the contours and identify the color of each contour\n",
        "    for contour in contours:\n",
        "        # Find the bounding box of the contour\n",
        "        x, y, w, h = cv2.boundingRect(contour)\n",
        "\n",
        "        # Get the color label of the current contour from the mask image\n",
        "        color_label = mask_image[y + int(h / 2), x + int(w / 2)]\n",
        "\n",
        "        label = None\n",
        "        for key, value in label_color_dict.items():\n",
        "            if np.array_equal(value, color_label):\n",
        "                label = key\n",
        "                break\n",
        "        if label is None:\n",
        "          continue\n",
        "\n",
        "        # Create a directory with the name of the color label if it doesn't exist\n",
        "        if not os.path.exists(label):\n",
        "            os.makedirs(label)\n",
        "\n",
        "        # Crop the corresponding region from the original image\n",
        "        cropped_image = original_image[y:y+h, x:x+w]\n",
        "\n",
        "        # Save the cropped image in the directory for the corresponding color label\n",
        "        file_name = os.path.join(label, f\"{label}_{len(os.listdir(label))+1}.jpg\")\n",
        "        cv2.imwrite(file_name, cropped_image)"
      ],
      "metadata": {
        "id": "n4lJBS7CV3VQ"
      },
      "execution_count": 2,
      "outputs": []
    },
    {
      "cell_type": "markdown",
      "source": [],
      "metadata": {
        "id": "ZgPUi9ZqbYxD"
      }
    }
  ]
}