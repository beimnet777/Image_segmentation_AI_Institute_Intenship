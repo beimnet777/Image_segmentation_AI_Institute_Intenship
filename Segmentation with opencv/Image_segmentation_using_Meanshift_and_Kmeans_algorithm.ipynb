{
  "nbformat": 4,
  "nbformat_minor": 0,
  "metadata": {
    "colab": {
      "provenance": []
    },
    "kernelspec": {
      "name": "python3",
      "display_name": "Python 3"
    },
    "language_info": {
      "name": "python"
    }
  },
  "cells": [
    {
      "cell_type": "markdown",
      "source": [
        "First let's import important modules"
      ],
      "metadata": {
        "id": "Taa75e392rdD"
      }
    },
    {
      "cell_type": "code",
      "execution_count": 2,
      "metadata": {
        "id": "8wGp4sXB1ea4"
      },
      "outputs": [],
      "source": [
        "#import necessary libraries\n",
        "import numpy as np\n",
        "import cv2\n",
        "from matplotlib import pyplot as plt\n",
        "import os\n",
        "from sklearn.cluster import KMeans"
      ]
    },
    {
      "cell_type": "code",
      "source": [
        "images_path = \"/content/drive/MyDrive/dataset/images/train\"\n",
        "\n",
        "image_files = [f for f in os.listdir(images_path)]\n",
        "\n",
        "for image_file in image_files:\n",
        "\n",
        "  img = cv2.imread(os.path.join(images_path, image_file))\n",
        "\n",
        "  lab = cv2.cvtColor(img, cv2.COLOR_BGR2RGB)\n",
        "  lab = lab.reshape((-1,3))\n",
        "  kmeans = KMeans(n_clusters=2)\n",
        "  kmeans.fit(lab)\n",
        "\n",
        "  # Get cluster labels and cluster centers\n",
        "  labels = kmeans.labels_\n",
        "  centers = kmeans.cluster_centers_\n",
        "\n",
        "  # Reshape labels to image shape\n",
        "  labels = labels.reshape((img.shape[0],img.shape[1]))\n",
        "\n",
        "  # The code below is for the Meanshift clustering\n",
        "\n",
        "  # spatial_radius = 25\n",
        "  # color_radius = 50\n",
        "  # max_level = 1\n",
        "  # segmented_image = cv2.pyrMeanShiftFiltering(lab, spatial_radius, color_radius, max_level)\n",
        "\n",
        "  # segmented_image_gray = cv2.cvtColor(segmented_image, cv2.COLOR_BGR2GRAY)\n",
        "\n",
        "  #   # Threshold the grayscale image to get a binary mask where the foreground is white and the background is black\n",
        "  # ret, mask = cv2.threshold(segmented_image_gray, 0, 255, cv2.THRESH_BINARY_INV+cv2.THRESH_OTSU)\n",
        "\n",
        "  # # Create a white image of the same size as the original image\n",
        "  # white = np.ones_like(img) * 255\n",
        "\n",
        "  # # Apply the binary mask to the white image to set the foreground pixels to black\n",
        "  # white = cv2.bitwise_and(white, white, mask=mask)\n",
        "\n",
        "  # # Invert the binary mask\n",
        "  # mask_inv = cv2.bitwise_not(mask)\n",
        "\n",
        "  # # Apply the inverted binary mask to the segmented image to set the background pixels to black\n",
        "  # segmented_image = cv2.bitwise_and(segmented_image, segmented_image, mask=mask_inv)\n",
        "\n",
        "  # # Add the two images together to create the final segmented image with a black background and the other part of the image in white color\n",
        "  # segmented_image = cv2.add(segmented_image, white)\n",
        "\n",
        "  fig, ax = plt.subplots(1, 2, figsize=(12, 6))\n",
        "  ax[0].imshow(cv2.cvtColor(img, cv2.COLOR_BGR2RGB))\n",
        "  ax[0].set_title('Initial Image')\n",
        "  ax[1].imshow(labels)\n",
        "  ax[1].set_title('Segmented Image')\n",
        "  plt.show()\n"
      ],
      "metadata": {
        "id": "7w0xmm8f1oEW",
        "colab": {
          "base_uri": "https://localhost:8080/",
          "height": 235
        },
        "outputId": "b0a6c88e-33c9-4d81-d514-1d180a3fb9f4"
      },
      "execution_count": 1,
      "outputs": [
        {
          "output_type": "error",
          "ename": "NameError",
          "evalue": "ignored",
          "traceback": [
            "\u001b[0;31m---------------------------------------------------------------------------\u001b[0m",
            "\u001b[0;31mNameError\u001b[0m                                 Traceback (most recent call last)",
            "\u001b[0;32m<ipython-input-1-00b998798468>\u001b[0m in \u001b[0;36m<module>\u001b[0;34m\u001b[0m\n\u001b[1;32m      1\u001b[0m \u001b[0mimages_path\u001b[0m \u001b[0;34m=\u001b[0m \u001b[0;34m\"/content/drive/MyDrive/dataset/images/train\"\u001b[0m\u001b[0;34m\u001b[0m\u001b[0;34m\u001b[0m\u001b[0m\n\u001b[1;32m      2\u001b[0m \u001b[0;34m\u001b[0m\u001b[0m\n\u001b[0;32m----> 3\u001b[0;31m \u001b[0mimage_files\u001b[0m \u001b[0;34m=\u001b[0m \u001b[0;34m[\u001b[0m\u001b[0mf\u001b[0m \u001b[0;32mfor\u001b[0m \u001b[0mf\u001b[0m \u001b[0;32min\u001b[0m \u001b[0mos\u001b[0m\u001b[0;34m.\u001b[0m\u001b[0mlistdir\u001b[0m\u001b[0;34m(\u001b[0m\u001b[0mimages_path\u001b[0m\u001b[0;34m)\u001b[0m\u001b[0;34m]\u001b[0m\u001b[0;34m\u001b[0m\u001b[0;34m\u001b[0m\u001b[0m\n\u001b[0m\u001b[1;32m      4\u001b[0m \u001b[0;34m\u001b[0m\u001b[0m\n\u001b[1;32m      5\u001b[0m \u001b[0;32mfor\u001b[0m \u001b[0mimage_file\u001b[0m \u001b[0;32min\u001b[0m \u001b[0mimage_files\u001b[0m\u001b[0;34m:\u001b[0m\u001b[0;34m\u001b[0m\u001b[0;34m\u001b[0m\u001b[0m\n",
            "\u001b[0;31mNameError\u001b[0m: name 'os' is not defined"
          ]
        }
      ]
    }
  ]
}